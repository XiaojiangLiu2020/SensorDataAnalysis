{
 "cells": [
  {
   "cell_type": "code",
   "id": "f1445066-5daa-484a-b7d9-a6f210afa628",
   "metadata": {
    "ExecuteTime": {
     "end_time": "2024-11-20T17:57:25.160931Z",
     "start_time": "2024-11-20T17:57:23.508315Z"
    }
   },
   "source": [
    "import numpy as np\n",
    "import pandas as pd\n",
    "import matplotlib.pyplot as plt\n",
    "from sklearn.decomposition import PCA"
   ],
   "outputs": [],
   "execution_count": 3
  },
  {
   "cell_type": "code",
   "id": "502a8dfc-4edb-4d2c-99fe-23a5a9135762",
   "metadata": {
    "ExecuteTime": {
     "end_time": "2024-11-20T17:58:04.939687Z",
     "start_time": "2024-11-20T17:58:04.468861Z"
    }
   },
   "source": [
    "# PCA\n",
    "df = pd.read_excel('extractedData1.xlsx', sheet_name='Sheet1')\n",
    "\n",
    "scale = (df - df.mean())/(df.std())\n",
    "\n",
    "print(scale) #Check scale\n",
    "\n",
    "print(\"Type of input data is:\", type(df))\n",
    "print(\"Size of input data = \", np.shape(df))\n",
    "\n",
    "pca = PCA()\n",
    "pca.fit(scale)\n",
    "feature_vector = pca.components_\n",
    "contri_rate = pca.explained_variance_ratio_\n",
    "print(contri_rate)\n",
    "\n",
    "pca = PCA(n_components=2) #2D PCA\n",
    "pca.fit(scale)\n",
    "df_opt = pca.transform(scale)\n",
    "\n",
    "with pd.ExcelWriter('PCAresult.xlsx') as writer:\n",
    "    pd.DataFrame(df_opt).to_excel(writer, sheet_name='PCs')\n",
    "    pd.DataFrame(contri_rate).to_excel(writer, sheet_name='Contribution rates')\n",
    "    pd.DataFrame(feature_vector).to_excel(writer, sheet_name='Feature vector')\n",
    "    pd.DataFrame(scale).to_excel(writer, sheet_name='Standard data')"
   ],
   "outputs": [
    {
     "name": "stdout",
     "output_type": "stream",
     "text": [
      "     1.38E-01  6.29E-02  7.78E-01  1.30E-01  2.64E-01  3.42E+00  2.63E+00  \\\n",
      "0    4.838605  4.091116  3.410422  5.034742  5.027014  3.042905  3.080594   \n",
      "1    4.657923  3.746584  3.309785  4.825200  4.826383  3.015543  2.977968   \n",
      "2    4.597695  3.943460  3.171411  4.755353  4.726068  2.988181  2.977968   \n",
      "3    4.537468  3.746584  3.033036  4.755353  4.675910  2.988181  3.029281   \n",
      "4    4.537468  3.648147  2.869502  4.615658  4.575595  2.960818  3.029281   \n",
      "..        ...       ...       ...       ...       ...       ...       ...   \n",
      "673 -0.618007  0.990329  1.259324 -0.671792 -0.590648 -1.034077 -1.229695   \n",
      "674 -0.599939  1.236424  1.234165 -0.643853 -0.540490 -1.034077 -1.229695   \n",
      "675 -0.624030  1.236424  1.271904 -0.643853 -0.540490 -1.061439 -1.229695   \n",
      "676 -0.618007  1.433299  1.209006 -0.608929 -0.490332 -1.034077 -1.229695   \n",
      "677 -0.605962  1.531737  1.284484 -0.615914 -0.540490 -1.034077 -1.229695   \n",
      "\n",
      "     3.42E+00.1  2.84E+00  \n",
      "0      1.665720  2.765865  \n",
      "1      1.665720  2.742929  \n",
      "2      1.665720  2.719994  \n",
      "3      1.665720  2.765865  \n",
      "4      1.665720  2.765865  \n",
      "..          ...       ...  \n",
      "673   -1.332649 -1.133179  \n",
      "674   -1.332649 -1.133179  \n",
      "675   -1.353186 -1.133179  \n",
      "676   -1.353186 -1.133179  \n",
      "677   -1.353186 -1.133179  \n",
      "\n",
      "[678 rows x 9 columns]\n",
      "Type of input data is: <class 'pandas.core.frame.DataFrame'>\n",
      "Size of input data =  (678, 9)\n",
      "[7.24065793e-01 2.65919032e-01 7.93246139e-03 1.58108522e-03\n",
      " 2.37062738e-04 1.19812887e-04 9.29340797e-05 3.10158629e-05\n",
      " 2.08028553e-05]\n"
     ]
    }
   ],
   "execution_count": 5
  },
  {
   "cell_type": "code",
   "execution_count": null,
   "id": "ec4b2c3e-7a0f-4cfd-ad47-3a34d4c055b1",
   "metadata": {},
   "outputs": [],
   "source": [
    "# Extract the x and y data from the '0' and '1' columns\n",
    "x = data['0']\n",
    "y = data['1']\n",
    "\n",
    "# Create a dictionary to map each label value to a color\n",
    "label_color_map = {'Ace_0_rh0': '#F2E6E6', 'Ace_20_rh0': '#E1C4C4', 'Ace_50_rh0': '#CF9E9E', \n",
    "                   'Ace_100_rh0': '#B87070', 'Ace_500_rh0': '#984B4B', 'Ace_1000_rh0': '#743A3A',\n",
    "                  'FA_0_rh0': '#F2E6E6', 'FA_20_rh0': '#E1C4C4', 'FA_50_rh0': '#CF9E9E', \n",
    "                   'FA_100_rh0': '#B87070', 'FA_500_rh0': '#984B4B', 'FA_1000_rh0': '#743A3A',\n",
    "                  'Eth_0_rh0': '#F2E6E6', 'Eth_20_rh0': '#E1C4C4', 'Eth_50_rh0': '#CF9E9E', \n",
    "                   'Eth_100_rh0': '#B87070', 'Eth_500_rh0': '#984B4B', 'Eth_1000_rh0': '#743A3A',}\n",
    "\n",
    "# Create a list of indices for the rows with labels included in the label_color_map dictionary\n",
    "included_labels = list(filter(lambda i: data['Label'][i] in label_color_map, range(len(data))))\n",
    "\n",
    "# Create a list of colors based on the 'Label' column\n",
    "colors = [label_color_map[data['Label'][i]] for i in included_labels]\n",
    "\n",
    "plt.figure(figsize=(5, 4))\n",
    "# Create a scatter plot with different colors for each label\n",
    "plt.scatter(x[included_labels], y[included_labels], c=colors)\n",
    "\n",
    "# Add labels and title\n",
    "plt.xlabel('PC1', fontname='Arial', fontsize=13)\n",
    "plt.ylabel('PC2', fontname='Arial', fontsize=13)\n",
    "plt.title('PCA of Acetone, RH=60%', fontname='Arial', fontsize=14)\n",
    "\n",
    "# Create a legend based on the 'Label' column\n",
    "handles = []\n",
    "labels = []\n",
    "for label in label_color_map:\n",
    "    if label in data['Label'].values:\n",
    "        handles.append(plt.scatter([], [], c=label_color_map[label], label=label))\n",
    "        labels.append(label)\n",
    "plt.legend(handles=handles, labels=labels, loc=2, prop={'family': 'Arial','size':8.5})\n",
    "plt.xticks(fontname='Arial', fontsize=11)\n",
    "plt.yticks(fontname='Arial', fontsize=11)\n",
    "\n",
    "plt.xlim((-15.1, 15.1))\n",
    "plt.ylim((-3, 6.1))\n",
    "#plt.savefig('rh0', dpi=500)\n",
    "plt.show()"
   ]
  }
 ],
 "metadata": {
  "kernelspec": {
   "display_name": "Python 3 (ipykernel)",
   "language": "python",
   "name": "python3"
  },
  "language_info": {
   "codemirror_mode": {
    "name": "ipython",
    "version": 3
   },
   "file_extension": ".py",
   "mimetype": "text/x-python",
   "name": "python",
   "nbconvert_exporter": "python",
   "pygments_lexer": "ipython3",
   "version": "3.10.11"
  }
 },
 "nbformat": 4,
 "nbformat_minor": 5
}
