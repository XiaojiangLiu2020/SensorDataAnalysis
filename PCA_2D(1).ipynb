{
 "cells": [
  {
   "cell_type": "code",
   "execution_count": null,
   "id": "f1445066-5daa-484a-b7d9-a6f210afa628",
   "metadata": {},
   "outputs": [],
   "source": [
    "import numpy as np\n",
    "import pandas as pd\n",
    "import matplotlib.pyplot as plt\n",
    "from sklearn.decomposition import PCA"
   ]
  },
  {
   "cell_type": "code",
   "execution_count": null,
   "id": "502a8dfc-4edb-4d2c-99fe-23a5a9135762",
   "metadata": {},
   "outputs": [],
   "source": [
    "# PCA\n",
    "df = pd.read_excel('mixture_02.xlsx', sheet_name = 'split_pcaplot')\n",
    "\n",
    "scale = (df - df.mean())/(df.std())\n",
    "\n",
    "print(scale) #Check scale\n",
    "\n",
    "print(\"Type of input data is:\", type(df))\n",
    "print(\"Size of input data = \", np.shape(df))\n",
    "\n",
    "pca = PCA()\n",
    "pca.fit(scale)\n",
    "feature_vector = pca.components_\n",
    "contri_rate = pca.explained_variance_ratio_\n",
    "print(contri_rate)\n",
    "\n",
    "pca = PCA(n_components=2) #2D PCA\n",
    "pca.fit(scale)\n",
    "df_opt = pca.transform(scale)\n",
    "\n",
    "writer = pd.ExcelWriter('PCAresult.xlsx')\n",
    "pd.DataFrame(df_opt).to_excel(writer, sheet_name='PCs')\n",
    "pd.DataFrame(contri_rate).to_excel(writer, sheet_name='Contribution rates')\n",
    "pd.DataFrame(feature_vector).to_excel(writer, sheet_name='Feature vector')\n",
    "pd.DataFrame(scale).to_excel(writer, sheet_name='Standard data')\n",
    "writer.save()"
   ]
  },
  {
   "cell_type": "code",
   "execution_count": null,
   "id": "ec4b2c3e-7a0f-4cfd-ad47-3a34d4c055b1",
   "metadata": {},
   "outputs": [],
   "source": [
    "# Extract the x and y data from the '0' and '1' columns\n",
    "x = data['0']\n",
    "y = data['1']\n",
    "\n",
    "# Create a dictionary to map each label value to a color\n",
    "label_color_map = {'Ace_0_rh0': '#F2E6E6', 'Ace_20_rh0': '#E1C4C4', 'Ace_50_rh0': '#CF9E9E', \n",
    "                   'Ace_100_rh0': '#B87070', 'Ace_500_rh0': '#984B4B', 'Ace_1000_rh0': '#743A3A',\n",
    "                  'FA_0_rh0': '#F2E6E6', 'FA_20_rh0': '#E1C4C4', 'FA_50_rh0': '#CF9E9E', \n",
    "                   'FA_100_rh0': '#B87070', 'FA_500_rh0': '#984B4B', 'FA_1000_rh0': '#743A3A',\n",
    "                  'Eth_0_rh0': '#F2E6E6', 'Eth_20_rh0': '#E1C4C4', 'Eth_50_rh0': '#CF9E9E', \n",
    "                   'Eth_100_rh0': '#B87070', 'Eth_500_rh0': '#984B4B', 'Eth_1000_rh0': '#743A3A',}\n",
    "\n",
    "# Create a list of indices for the rows with labels included in the label_color_map dictionary\n",
    "included_labels = list(filter(lambda i: data['Label'][i] in label_color_map, range(len(data))))\n",
    "\n",
    "# Create a list of colors based on the 'Label' column\n",
    "colors = [label_color_map[data['Label'][i]] for i in included_labels]\n",
    "\n",
    "plt.figure(figsize=(5, 4))\n",
    "# Create a scatter plot with different colors for each label\n",
    "plt.scatter(x[included_labels], y[included_labels], c=colors)\n",
    "\n",
    "# Add labels and title\n",
    "plt.xlabel('PC1', fontname='Arial', fontsize=13)\n",
    "plt.ylabel('PC2', fontname='Arial', fontsize=13)\n",
    "plt.title('PCA of Acetone, RH=60%', fontname='Arial', fontsize=14)\n",
    "\n",
    "# Create a legend based on the 'Label' column\n",
    "handles = []\n",
    "labels = []\n",
    "for label in label_color_map:\n",
    "    if label in data['Label'].values:\n",
    "        handles.append(plt.scatter([], [], c=label_color_map[label], label=label))\n",
    "        labels.append(label)\n",
    "plt.legend(handles=handles, labels=labels, loc=2, prop={'family': 'Arial','size':8.5})\n",
    "plt.xticks(fontname='Arial', fontsize=11)\n",
    "plt.yticks(fontname='Arial', fontsize=11)\n",
    "\n",
    "plt.xlim((-15.1, 15.1))\n",
    "plt.ylim((-3, 6.1))\n",
    "#plt.savefig('rh0', dpi=500)\n",
    "plt.show()"
   ]
  }
 ],
 "metadata": {
  "kernelspec": {
   "display_name": "Python 3 (ipykernel)",
   "language": "python",
   "name": "python3"
  },
  "language_info": {
   "codemirror_mode": {
    "name": "ipython",
    "version": 3
   },
   "file_extension": ".py",
   "mimetype": "text/x-python",
   "name": "python",
   "nbconvert_exporter": "python",
   "pygments_lexer": "ipython3",
   "version": "3.10.11"
  }
 },
 "nbformat": 4,
 "nbformat_minor": 5
}
